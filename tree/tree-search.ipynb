{
 "cells": [
  {
   "cell_type": "markdown",
   "source": [
    "# Search Tree"
   ],
   "metadata": {}
  },
  {
   "cell_type": "markdown",
   "source": [
    "## 1.Binary Search Tree"
   ],
   "metadata": {}
  },
  {
   "cell_type": "markdown",
   "source": [
    "the list must have to be sorted."
   ],
   "metadata": {}
  },
  {
   "cell_type": "markdown",
   "source": [
    "Search Worst Case : logN"
   ],
   "metadata": {}
  },
  {
   "cell_type": "code",
   "execution_count": 1,
   "source": [
    "def binary_search(left, right, t):\n",
    "    if left>right : return None\n",
    "    mid = (left+right)//2\n",
    "    if a[mid] == t :\n",
    "        return mid\n",
    "    if a[mid] > t: \n",
    "        binary_search(left,mid-1, t)\n",
    "    else : binary_search(mid+1, right, t)"
   ],
   "outputs": [],
   "metadata": {}
  },
  {
   "cell_type": "markdown",
   "source": [
    "Binary search Tree's parent Node has child node what is the next mid."
   ],
   "metadata": {}
  },
  {
   "cell_type": "markdown",
   "source": [
    "The inorder traversal of Binary Search Tree has result of sorted list."
   ],
   "metadata": {}
  },
  {
   "cell_type": "markdown",
   "source": [],
   "metadata": {}
  },
  {
   "cell_type": "code",
   "execution_count": 25,
   "source": [
    "class Node:\n",
    "    def __init__(self, key, value, left = None, right = None):\n",
    "        self.key = key\n",
    "        self.value = value\n",
    "        self.left = left\n",
    "        self.right = right\n",
    "\n",
    "class BST:\n",
    "    def __init__(self):\n",
    "        self.root = None\n",
    "\n",
    "    def get(self,key):\n",
    "        return self.get_item(self.root, k)\n",
    "\n",
    "    def get_item(self, n, k):\n",
    "        if n == None:\n",
    "            return None\n",
    "        if n.key > k:\n",
    "            return self.get_item(n.left, k)\n",
    "        elif n.key < k:\n",
    "            return self.get_item(n.right, k)\n",
    "        else:\n",
    "            return n.value\n",
    "\n",
    "    def put(self,key,value):\n",
    "        self.root = self.put_item(self.root, key, value)\n",
    "\n",
    "    def put_item(self, n, key, value):\n",
    "        if n == None:\n",
    "            return Node(key, value)\n",
    "        if n.key > key:\n",
    "            n.left = self.put_item(n.left, key, value)\n",
    "        elif n.key < key:\n",
    "            n.right = self.put_item(n.right, key, value)\n",
    "        else:\n",
    "            n.value = value\n",
    "        return n\n",
    "\n",
    "    def min(self):\n",
    "        if self.root == None:\n",
    "            return None\n",
    "        return self.minimum(self.root)\n",
    "\n",
    "    def minimum(self, n):\n",
    "        if n.left == None:\n",
    "            return n\n",
    "        return self.minimum(n.left)\n",
    "\n",
    "    def delete_min(self):\n",
    "        if n.left == None:\n",
    "            print('tree is empty')\n",
    "        self.root = self.del_min(self.root)\n",
    "    \n",
    "    def del_min(self, n):\n",
    "        if n.left == None:\n",
    "            return n.right\n",
    "        n.left = self.del_min(n.left)\n",
    "        return n\n",
    "\n",
    "    def delete(self, k):\n",
    "        self.root = self.del_node(self.root, k)\n",
    "\n",
    "    def del_node(self, n, k):\n",
    "        if n == None:\n",
    "            return None\n",
    "        elif n.key > k:\n",
    "            n.left = self.del_node(n.left, k)\n",
    "        elif n.key < k:\n",
    "            n.right = self.del_node(n.right, k)\n",
    "        else:\n",
    "            if n.right == None:\n",
    "                return n.left\n",
    "            if n.left == None:\n",
    "                return n.right\n",
    "            target = n\n",
    "            n = self.minimum(target.right)\n",
    "            n.right = self.del_min(target.right)\n",
    "            n.left = target.left\n",
    "        return n\n",
    "    \n",
    "    def preorder(self, n):\n",
    "        if n!= None:\n",
    "            print(n.key,end=' ')\n",
    "            if n.left != None:\n",
    "                self.preorder(n.left)\n",
    "            if n.right != None:\n",
    "                self.preorder(n.right)\n",
    "\n",
    "    def inorder(self, n):\n",
    "        if n!= None:\n",
    "            if n.left != None:\n",
    "                self.inorder(n.left)\n",
    "            print(n.key,end=' ')\n",
    "            if n.right != None:\n",
    "                self.inorder(n.right)\n",
    "if __name__==\"__main__\":\n",
    "    t = BST()\n",
    "    t.put(500,'A')\n",
    "    t.put(600,'B')\n",
    "    t.put(200,'M')\n",
    "    t.put(100,'O')\n",
    "    t.put(350,'L')\n",
    "    t.put(210,'K')\n",
    "    t.put(1,'O')\n",
    "    t.put(76,'P')\n",
    "    print('preorder :',end=' ')\n",
    "    t.preorder(t.root)\n",
    "    print()\n",
    "    print('ineorder :',end=' ')\n",
    "    t.inorder(t.root)\n",
    "    print()\n",
    "    print('after delete 200')\n",
    "    t.delete(200)\n",
    "    print('preorder :',end=' ')\n",
    "    t.preorder(t.root)\n",
    "    print()\n",
    "    print('ineorder :',end=' ')\n",
    "    t.inorder(t.root)\n",
    "    print()\n"
   ],
   "outputs": [
    {
     "output_type": "stream",
     "name": "stdout",
     "text": [
      "preorder : 500 200 100 1 76 350 210 600 \n",
      "ineorder : 1 76 100 200 210 350 500 600 \n",
      "after delete 200\n",
      "preorder : 500 210 100 1 76 350 600 \n",
      "ineorder : 1 76 100 210 350 500 600 \n"
     ]
    }
   ],
   "metadata": {}
  },
  {
   "cell_type": "code",
   "execution_count": null,
   "source": [],
   "outputs": [],
   "metadata": {}
  }
 ],
 "metadata": {
  "orig_nbformat": 4,
  "kernelspec": {
   "name": "python3",
   "display_name": "Python 3 (ipykernel)",
   "language": "python"
  },
  "language_info": {
   "name": "python",
   "version": "3.9.7",
   "mimetype": "text/x-python",
   "codemirror_mode": {
    "name": "ipython",
    "version": 3
   },
   "pygments_lexer": "ipython3",
   "nbconvert_exporter": "python",
   "file_extension": ".py"
  }
 },
 "nbformat": 4,
 "nbformat_minor": 2
}