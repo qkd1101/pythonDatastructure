{
 "cells": [
  {
   "cell_type": "markdown",
   "source": [
    "# Tree"
   ],
   "metadata": {}
  },
  {
   "cell_type": "markdown",
   "source": [
    "## 1.1 Tree terminologies"
   ],
   "metadata": {}
  },
  {
   "cell_type": "markdown",
   "source": [
    "Leaf Node : Terminal/ External Node"
   ],
   "metadata": {}
  },
  {
   "cell_type": "markdown",
   "source": [
    "Non Lead Node : Internal/ Non-Terminal Node"
   ],
   "metadata": {}
  },
  {
   "cell_type": "markdown",
   "source": [
    "Html, Xml document has tree structure"
   ],
   "metadata": {}
  },
  {
   "cell_type": "markdown",
   "source": [
    "## 1.2 Binary Tree"
   ],
   "metadata": {}
  },
  {
   "cell_type": "markdown",
   "source": [
    "> Binary Tree has 0 ~ 2 Child Node."
   ],
   "metadata": {}
  },
  {
   "cell_type": "markdown",
   "source": [
    "Full Binary Tree < Complete Binary Tree"
   ],
   "metadata": {}
  },
  {
   "cell_type": "markdown",
   "source": [
    "### 1.2.1 Bianry Tree List "
   ],
   "metadata": {}
  },
  {
   "cell_type": "markdown",
   "source": [
    "If there is a node with index k, its parent's node index is k/2 and child's node indexs are k*2 , k*2+1."
   ],
   "metadata": {}
  },
  {
   "cell_type": "markdown",
   "source": [
    "### 1.2.2 Binary Tree with Node"
   ],
   "metadata": {}
  },
  {
   "cell_type": "code",
   "execution_count": 10,
   "source": [
    "class Node:\n",
    "    def __init__(self, item, left= None, right=None):\n",
    "        self.item = item\n",
    "        self.left = left\n",
    "        self.right = right\n",
    "\n",
    "class BianryTree:\n",
    "    def __init__(self):\n",
    "        self.root = None\n",
    "\n",
    "    def preorder(self, n):\n",
    "        if n != None:\n",
    "            print(str(n.item),end=' ')\n",
    "            if n.left:\n",
    "                self.preorder(n.left)\n",
    "            if n.right:\n",
    "                self.preorder(n.right)\n",
    "\n",
    "    def inorder(self, n):\n",
    "        if n != None:\n",
    "            if n.left:\n",
    "                self.inorder(n.left)\n",
    "            print(str(n.item),end=' ')\n",
    "            if n.right:\n",
    "                self.inorder(n.right)\n",
    "\n",
    "    def postorder(self, n):\n",
    "        if n != None:\n",
    "            if n.left:\n",
    "                self.postorder(n.left)\n",
    "            if n.right:\n",
    "                self.postorder(n.right)\n",
    "            print(str(n.item),end=' ')\n",
    "\n",
    "    def levelorder(self, root):\n",
    "        q = []\n",
    "        q.append(root)\n",
    "        while len(q) != 0:\n",
    "            t = q.pop(0)\n",
    "            print(str(t.item),end=' ')\n",
    "            if t.left != None:\n",
    "                q.append(t.left)\n",
    "            if t.right != None:\n",
    "                q.append(t.right)\n",
    "\n",
    "    def height(self, root):\n",
    "        if root == None:\n",
    "            return 0\n",
    "        return max(self.height(root.left), self.height(root.right))+1\n",
    "\n",
    "\n",
    "if __name__ == \"__main__\":\n",
    "    t = BianryTree()\n",
    "\n",
    "    n1 = Node(10)\n",
    "    n2 = Node(20)\n",
    "    n3 = Node(30)\n",
    "    n4 = Node(40)\n",
    "    n5 = Node(50)\n",
    "    n6 = Node(60)\n",
    "    n7 = Node(70)\n",
    "    n8 = Node(80)\n",
    "\n",
    "    n1.left = n2\n",
    "    n1.right = n3\n",
    "    n2.left = n4\n",
    "    n2.right = n5\n",
    "    n3.left = n6\n",
    "    n3.right = n7\n",
    "    n4.left = n8\n",
    "\n",
    "    t.root = n1\n",
    "    print('height:',t.height(t.root))\n",
    "    print('preorder:',end=' ')\n",
    "    t.preorder(t.root)\n",
    "    print()\n",
    "    print('ineorder:',end=' ')\n",
    "    t.inorder(t.root)\n",
    "    print()\n",
    "    print('posteorder:',end=' ')\n",
    "    t.postorder(t.root)\n",
    "    print()\n",
    "    print('levelorder:',end=' ')\n",
    "    t.levelorder(t.root)\n",
    "    \n",
    "    "
   ],
   "outputs": [
    {
     "output_type": "stream",
     "name": "stdout",
     "text": [
      "height: 4\n",
      "preorder: 10 20 40 80 50 30 60 70 \n",
      "ineorder: 80 40 20 50 10 60 30 70 \n",
      "posteorder: 80 40 50 20 60 70 30 10 \n",
      "levelorder: 10 20 30 40 50 60 70 80 "
     ]
    }
   ],
   "metadata": {}
  },
  {
   "cell_type": "markdown",
   "source": [
    "> all task has O(N)"
   ],
   "metadata": {}
  }
 ],
 "metadata": {
  "orig_nbformat": 4,
  "kernelspec": {
   "name": "python3",
   "display_name": "Python 3 (ipykernel)",
   "language": "python"
  }
 },
 "nbformat": 4,
 "nbformat_minor": 2
}