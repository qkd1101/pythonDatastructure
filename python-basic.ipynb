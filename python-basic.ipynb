{
 "cells": [
  {
   "cell_type": "markdown",
   "source": [
    "# Python Basic Concept"
   ],
   "metadata": {}
  },
  {
   "cell_type": "markdown",
   "source": [
    "## 1.Class Example"
   ],
   "metadata": {}
  },
  {
   "cell_type": "code",
   "execution_count": 11,
   "source": [
    "class Student:\n",
    "    def __init__(self, name, id):\n",
    "        self.name = name\n",
    "        self.id = id\n",
    "    def get_name(self):\n",
    "        return self.name\n",
    "    def get_id(self):\n",
    "        return self.id\n",
    "\n",
    "best = Student('Lee',101)\n",
    "print(best.get_id())\n",
    "print(best.get_name())"
   ],
   "outputs": [
    {
     "output_type": "stream",
     "name": "stdout",
     "text": [
      "101\n",
      "Lee\n"
     ]
    }
   ],
   "metadata": {}
  },
  {
   "cell_type": "markdown",
   "source": [
    "## 2.List Basic"
   ],
   "metadata": {}
  },
  {
   "cell_type": "code",
   "execution_count": 9,
   "source": [
    "a = [40,10,20]\n",
    "print(a[-1]) # 20\n",
    "a.pop()\n",
    "a.pop(0) # index 0\n",
    "a.append(10)\n",
    "print(len(a))"
   ],
   "outputs": [
    {
     "output_type": "stream",
     "name": "stdout",
     "text": [
      "20\n",
      "2\n"
     ]
    }
   ],
   "metadata": {}
  },
  {
   "cell_type": "markdown",
   "source": [
    "> list of python is implemented by <b>dynamic array</b>"
   ],
   "metadata": {}
  },
  {
   "cell_type": "markdown",
   "source": [
    "## 3.Loop Basic"
   ],
   "metadata": {}
  },
  {
   "cell_type": "code",
   "execution_count": 18,
   "source": [
    "import random\n",
    "import time\n",
    "\n",
    "random.seed(time.time())\n",
    "\n",
    "a = []\n",
    "\n",
    "for _ in range(100):\n",
    "    a.append(random.randint(1,1000))\n",
    "\n",
    "start_time = time.time()\n",
    "\n",
    "print(\"%s second time\" %(time.time() - start_time))"
   ],
   "outputs": [
    {
     "output_type": "stream",
     "name": "stdout",
     "text": [
      "6.67572021484375e-05 second time\n"
     ]
    }
   ],
   "metadata": {}
  },
  {
   "cell_type": "markdown",
   "source": [
    "### inner functions"
   ],
   "metadata": {}
  },
  {
   "cell_type": "code",
   "execution_count": 20,
   "source": [
    "a = [1,2,3,4,5]\n",
    "even = list(map(lambda x: (x%2 == 0),a))\n",
    "print(even)\n",
    "\n",
    "b = [[0,1,5],[3,4,3]]\n",
    "b.sort(key = lambda x: x[2])    # the element of index 2 is key\n",
    "print(b)"
   ],
   "outputs": [
    {
     "output_type": "stream",
     "name": "stdout",
     "text": [
      "[False, True, False, True, False]\n",
      "[[3, 4, 3], [0, 1, 5]]\n"
     ]
    }
   ],
   "metadata": {}
  },
  {
   "cell_type": "markdown",
   "source": [
    "## 4. Recursion"
   ],
   "metadata": {}
  },
  {
   "cell_type": "markdown",
   "source": [
    "> for factorial, tree, fractal algorithm"
   ],
   "metadata": {}
  },
  {
   "cell_type": "code",
   "execution_count": 1,
   "source": [
    "def recurse(count):\n",
    "    if count <= 0:\n",
    "        print(' end')\n",
    "    else:\n",
    "        print(count,' *')\n",
    "        recurse(count-1)\n",
    "\n",
    "recurse(6)"
   ],
   "outputs": [
    {
     "output_type": "stream",
     "name": "stdout",
     "text": [
      "6  *\n",
      "5  *\n",
      "4  *\n",
      "3  *\n",
      "2  *\n",
      "1  *\n",
      " end\n"
     ]
    }
   ],
   "metadata": {}
  },
  {
   "cell_type": "markdown",
   "source": [
    "### factorial"
   ],
   "metadata": {}
  },
  {
   "cell_type": "code",
   "execution_count": 26,
   "source": [
    "def factorial(n):\n",
    "    if(n == 1):\n",
    "        return 1\n",
    "    return n * factorial(n-1)\n",
    "\n",
    "factorial(6)"
   ],
   "outputs": [
    {
     "output_type": "execute_result",
     "data": {
      "text/plain": [
       "720"
      ]
     },
     "metadata": {},
     "execution_count": 26
    }
   ],
   "metadata": {}
  },
  {
   "cell_type": "markdown",
   "source": [
    "> loop do not use system stack(there s no calling function). so, loop is faster than recursion"
   ],
   "metadata": {}
  },
  {
   "cell_type": "markdown",
   "source": [
    "### loop vs recursion"
   ],
   "metadata": {}
  },
  {
   "cell_type": "markdown",
   "source": [
    "> recursion have the advantage of reading code, but also have disadvantage of memory effeciency"
   ],
   "metadata": {}
  }
 ],
 "metadata": {
  "orig_nbformat": 4,
  "kernelspec": {
   "name": "python3",
   "display_name": "Python 3 (ipykernel)",
   "language": "python"
  },
  "language_info": {
   "name": "python",
   "version": "3.9.7",
   "mimetype": "text/x-python",
   "codemirror_mode": {
    "name": "ipython",
    "version": 3
   },
   "pygments_lexer": "ipython3",
   "nbconvert_exporter": "python",
   "file_extension": ".py"
  }
 },
 "nbformat": 4,
 "nbformat_minor": 2
}