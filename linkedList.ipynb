{
 "cells": [
  {
   "cell_type": "markdown",
   "source": [
    "# Linked List"
   ],
   "metadata": {}
  },
  {
   "cell_type": "markdown",
   "source": [
    "## 1. Singly Linked List"
   ],
   "metadata": {}
  },
  {
   "cell_type": "markdown",
   "source": [
    "> linked list is consisted of insertion, deletion, searching"
   ],
   "metadata": {}
  },
  {
   "cell_type": "markdown",
   "source": [
    "### 1.1 Sequential Search"
   ],
   "metadata": {}
  },
  {
   "cell_type": "code",
   "execution_count": 22,
   "source": [
    "class SList:\n",
    "    class Node:\n",
    "        def __init__(self,item,link):\n",
    "            self.item = item\n",
    "            self.next = link\n",
    "        \n",
    "    def __init__(self):\n",
    "        self.head = None\n",
    "        self.size = 0\n",
    "\n",
    "    def size(self): return self.size\n",
    "    def is_empty(self): return self.size == 0\n",
    "\n",
    "    def insert_front(self,item):\n",
    "        if self.is_empty():\n",
    "            self.head = self.Node(item, None)\n",
    "\n",
    "        else:\n",
    "            self.head = self.Node(item, self.head)\n",
    "        self.size += 1\n",
    "\n",
    "    def insert_after(self,item,p):\n",
    "        p.next = SList.Node(item,p.next)\n",
    "        self.size += 1\n",
    "    \n",
    "    def delete_front(self):\n",
    "        if self.is_empty():\n",
    "            raise EmptyError('Under flow')\n",
    "\n",
    "        else:\n",
    "            self.head = self.head.next\n",
    "            self.size -= 1\n",
    "\n",
    "    def delete_after(self,p):\n",
    "        if self.is_empty():\n",
    "            raise EmptyError('Under flow')\n",
    "\n",
    "        t = p.next\n",
    "        p.next = t.next\n",
    "        self.size -= 1\n",
    "\n",
    "    def search(self, t):\n",
    "        p = self.head\n",
    "        for k in range(self.size):\n",
    "            if t == p.item: return k\n",
    "            p = p.next\n",
    "        return None\n",
    "\n",
    "    def print_list(self):\n",
    "        if self.is_empty():\n",
    "            print(\"No Item in Linked List\")\n",
    "        p = self.head\n",
    "        while p:\n",
    "            if p.next != None:\n",
    "                print(p.item,' -> ',end=' ')\n",
    "            else:\n",
    "                print(p.item)\n",
    "            p = p.next\n",
    "\n",
    "class EmptyError(Exception):\n",
    "    pass\n",
    "\n",
    "if __name__=='__main__':\n",
    "    s = SList()\n",
    "    s.insert_front('orange')\n",
    "    s.insert_front('apple')\n",
    "    s.insert_after('pineapple',s.head)\n",
    "    s.insert_after('banana',s.head.next)\n",
    "    s.insert_front('pear')\n",
    "    s.print_list()\n",
    "    print('pineapple의 위치는 %d' % s.search('pineapple'))\n",
    "    print('orange의 위치는 %d' % s.search('orange'))\n",
    "    print('kiwi의 위치는', s.search('kiwi'))\n",
    "    print('-----head 노드 삭제-----')\n",
    "    s.delete_front()\n",
    "    s.print_list()\n",
    "    print('-----head 다음 노드 삭제-----')\n",
    "    s.delete_after(s.head)\n",
    "    s.print_list()\n",
    "    "
   ],
   "outputs": [
    {
     "output_type": "stream",
     "name": "stdout",
     "text": [
      "pear  ->  apple  ->  pineapple  ->  banana  ->  orange\n",
      "pineapple의 위치는 2\n",
      "orange의 위치는 4\n",
      "kiwi의 위치는 None\n",
      "-----head 노드 삭제-----\n",
      "apple  ->  pineapple  ->  banana  ->  orange\n",
      "-----특정 노드 삭제-----\n",
      "apple  ->  banana  ->  orange\n"
     ]
    }
   ],
   "metadata": {}
  },
  {
   "cell_type": "markdown",
   "source": [
    "## 2. Doubly Linked Likst"
   ],
   "metadata": {}
  },
  {
   "cell_type": "code",
   "execution_count": 39,
   "source": [
    "class DList:\n",
    "    class Node:\n",
    "        def __init__(self, item, prev, link):\n",
    "            self.item = item\n",
    "            self.prev = prev\n",
    "            self.next = link\n",
    "\n",
    "    def __init__(self):\n",
    "        self.head = self.Node(None, None, None)\n",
    "        self.tail = self.Node(None, self.head, None)\n",
    "        self.head.next = self.tail\n",
    "        self.size = 0\n",
    "    \n",
    "    def size(self): return self.size\n",
    "    def is_empty(self): return self.size == 0\n",
    "\n",
    "    def insert_before(self, p, item):\n",
    "        t = p.prev\n",
    "        n = self.Node(item, t, p)\n",
    "        t.next = n\n",
    "        p.prev = n\n",
    "        self.size += 1\n",
    "\n",
    "    def insert_after(self, p, item):\n",
    "        t = p.next\n",
    "        n = self.Node(item, p, t)\n",
    "        t.prev = n\n",
    "        p.next = n\n",
    "        self.size += 1\n",
    "\n",
    "    def delete(self, x):\n",
    "        r = x.next\n",
    "        f = x.prev\n",
    "        f.next = r\n",
    "        r.prev = f\n",
    "        self.size -= 1\n",
    "        return x.item\n",
    "\n",
    "    def print_list(self):\n",
    "        if self.is_empty():\n",
    "            print(\"No item in List\")\n",
    "        \n",
    "        else :\n",
    "            p = self.head.next\n",
    "            while p != self.tail:\n",
    "                if p.next != self.tail:\n",
    "                    print(p.item,' <=>',end=' ')\n",
    "                else:\n",
    "                    print(p.item)\n",
    "                p = p.next\n",
    "\n",
    "if __name__ == \"__main__\":\n",
    "    s = DList()\n",
    "    s.insert_after(s.head,'orange')\n",
    "    s.insert_before(s.tail,'apple')\n",
    "    s.insert_after(s.head.next,'pineapple')\n",
    "    s.insert_after(s.head.next,'banana')\n",
    "    s.insert_after(s.head.next,'pear')\n",
    "    s.print_list()\n",
    "    print('노드 삭제 후')\n",
    "    s.delete(s.head.next)\n",
    "    s.print_list()\n",
    "    print('마지막 노드 삭제 후')\n",
    "    s.delete(s.tail.prev)\n",
    "    s.print_list()\n",
    "    print('맨 끝 노드에 삽입')\n",
    "    s.insert_before(s.tail,'grape')\n",
    "    s.print_list()"
   ],
   "outputs": [
    {
     "output_type": "stream",
     "name": "stdout",
     "text": [
      "orange  <=> pear  <=> banana  <=> pineapple  <=> apple\n",
      "노드 삭제 후\n",
      "pear  <=> banana  <=> pineapple  <=> apple\n",
      "마지막 노드 삭제 후\n",
      "pear  <=> banana  <=> pineapple\n",
      "맨 끝 노드에 삽입\n",
      "pear  <=> banana  <=> pineapple  <=> grape\n"
     ]
    }
   ],
   "metadata": {}
  },
  {
   "cell_type": "markdown",
   "source": [
    "> Is SList's head first Node? And is DList's head just head Node?"
   ],
   "metadata": {}
  },
  {
   "cell_type": "markdown",
   "source": [
    "## 3. Circual"
   ],
   "metadata": {}
  },
  {
   "cell_type": "code",
   "execution_count": 19,
   "source": [
    "class CList:\n",
    "    class Node:\n",
    "        def __init__(self, item, link):\n",
    "            self.item = item\n",
    "            self.next = link\n",
    "\n",
    "    def __init__(self):\n",
    "        self.last = None\n",
    "        self.size = 0\n",
    "\n",
    "    def no_item(self): return self.size\n",
    "    def is_empty(self): return self.size == 0\n",
    "\n",
    "    def insert(self, item):\n",
    "        n = self.Node(item, None)\n",
    "        if self.is_empty():\n",
    "            n.next = n\n",
    "            self.last = n\n",
    "        else :\n",
    "            n.next = self.last.next\n",
    "            self.last.next = n\n",
    "        self.size += 1\n",
    "\n",
    "\n",
    "    def first(self):\n",
    "        if self.is_empty():\n",
    "            raise EmptyError('underflow')\n",
    "        f = self.last.next\n",
    "        return f.item\n",
    "\n",
    "    def delete(self):\n",
    "        if self.is_empty():\n",
    "            raise EmptyError('underFlow')\n",
    "        x = self.last.next\n",
    "        if self.size == 1:\n",
    "            self.last = None\n",
    "        else:\n",
    "            self.last.next = x.next\n",
    "        self.size -= 1\n",
    "        return x.item\n",
    "\n",
    "    def print_list(self):\n",
    "        if self.is_empty():\n",
    "            raise EmptyError('underFlow')\n",
    "        else:\n",
    "            f = self.last.next\n",
    "            p = f\n",
    "            while p.next != f:\n",
    "                print(p.item,' -> ',end=\"\")\n",
    "                p = p.next\n",
    "            print(p.item)\n",
    "\n",
    "class EmptyError(Exception):\n",
    "    pass\n",
    "\n",
    "if __name__ == \"__main__\":\n",
    "    s = CList()\n",
    "    s.insert('pear')\n",
    "    s.insert('banana')\n",
    "    s.insert('apple')\n",
    "    s.insert('pineapple')\n",
    "    s.print_list()\n",
    "    print('after delete')\n",
    "    print('delete :',s.delete())\n",
    "    s.print_list()\n",
    "    print('first')\n",
    "    print(s.first())\n",
    "    \n",
    "            "
   ],
   "outputs": [
    {
     "output_type": "stream",
     "name": "stdout",
     "text": [
      "pineapple  -> apple  -> banana  -> pear\n",
      "after delete\n",
      "delete : pineapple\n",
      "apple  -> banana  -> pear\n",
      "first\n",
      "apple\n"
     ]
    }
   ],
   "metadata": {}
  },
  {
   "cell_type": "markdown",
   "source": [
    "> last pointer points the first inserted node"
   ],
   "metadata": {}
  },
  {
   "cell_type": "markdown",
   "source": [],
   "metadata": {}
  }
 ],
 "metadata": {
  "orig_nbformat": 4,
  "kernelspec": {
   "name": "python3",
   "display_name": "Python 3 (ipykernel)",
   "language": "python"
  },
  "language_info": {
   "name": "python",
   "version": "3.9.7",
   "mimetype": "text/x-python",
   "codemirror_mode": {
    "name": "ipython",
    "version": 3
   },
   "pygments_lexer": "ipython3",
   "nbconvert_exporter": "python",
   "file_extension": ".py"
  }
 },
 "nbformat": 4,
 "nbformat_minor": 2
}