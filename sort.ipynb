{
 "cells": [
  {
   "cell_type": "markdown",
   "source": [
    "# Sort"
   ],
   "metadata": {}
  },
  {
   "cell_type": "markdown",
   "source": [
    "## 1. Selection Sort"
   ],
   "metadata": {}
  },
  {
   "cell_type": "code",
   "execution_count": 1,
   "source": [
    "def selection_sort(a):\n",
    "    for i in range(len(a)-1):\n",
    "        minimum = i\n",
    "        for j in range(i,len(a)):\n",
    "            if a[minimum] > a[j]:\n",
    "                minimum = j\n",
    "        a[minimum], a[i] = a[i], a[minimum]\n",
    "    return a\n",
    "\n",
    "a = [4,3,5,6,1,7,8,9,2,0]\n",
    "print(\"before sort: \",a)\n",
    "print(\"after sort: \",selection_sort(a))"
   ],
   "outputs": [
    {
     "output_type": "stream",
     "name": "stdout",
     "text": [
      "before sort:  [4, 3, 5, 6, 1, 7, 8, 9, 2, 0]\n",
      "after sort:  [0, 1, 2, 3, 4, 5, 6, 7, 8, 9]\n"
     ]
    }
   ],
   "metadata": {}
  },
  {
   "cell_type": "markdown",
   "source": [
    "O(N^2)"
   ],
   "metadata": {}
  },
  {
   "cell_type": "markdown",
   "source": [
    "## 2. Insertion Sort"
   ],
   "metadata": {}
  },
  {
   "cell_type": "code",
   "execution_count": 8,
   "source": [
    "def insertion_sort(a):\n",
    "    for i in range(1,len(a)):\n",
    "        for j in range(i,0,-1):\n",
    "            if a[j] > a[j-1] :\n",
    "                a[j], a[j-1] = a[j-1], a[j]\n",
    "\n",
    "a = [4,3,5,6,1,7,8,9,2,0]\n",
    "print(\"before sort: \",a)\n",
    "print(\"after sort: \",selection_sort(a))"
   ],
   "outputs": [
    {
     "output_type": "stream",
     "name": "stdout",
     "text": [
      "before sort:  [4, 3, 5, 6, 1, 7, 8, 9, 2, 0]\n",
      "after sort:  [0, 1, 2, 3, 4, 5, 6, 7, 8, 9]\n"
     ]
    }
   ],
   "metadata": {}
  },
  {
   "cell_type": "markdown",
   "source": [
    "O(N^2)"
   ],
   "metadata": {}
  },
  {
   "cell_type": "markdown",
   "source": [
    "## 3. Shell Sort"
   ],
   "metadata": {}
  },
  {
   "cell_type": "markdown",
   "source": [
    "h-sort"
   ],
   "metadata": {}
  },
  {
   "cell_type": "code",
   "execution_count": 34,
   "source": [
    "def shell_sort(a):\n",
    "    h = 4 # 3x + 1 \n",
    "    while h >= 1:\n",
    "        for i in range(h,len(a)): # h-sort\n",
    "            j = i\n",
    "            while j >= h and a[j] < a[j-h]:\n",
    "                a[j], a[j-h] = a[j-h], a[j]\n",
    "                j -= h\n",
    "        h //= 3\n",
    "\n",
    "a = [4,3,5,6,1,7,8,9,2,0]\n",
    "print(\"before sort: \",a)\n",
    "print(\"after sort: \",selection_sort(a))"
   ],
   "outputs": [
    {
     "output_type": "stream",
     "name": "stdout",
     "text": [
      "before sort:  [4, 3, 5, 6, 1, 7, 8, 9, 2, 0]\n",
      "after sort:  [0, 1, 2, 3, 4, 5, 6, 7, 8, 9]\n"
     ]
    }
   ],
   "metadata": {}
  },
  {
   "cell_type": "markdown",
   "source": [
    "shell sort is used at embedded system. it is advantageous to implement through hardware design"
   ],
   "metadata": {}
  },
  {
   "cell_type": "markdown",
   "source": [
    "## 4. Heap Sort"
   ],
   "metadata": {}
  },
  {
   "cell_type": "code",
   "execution_count": 29,
   "source": [
    "def downheap(i, size):\n",
    "    while 2*i <= size:\n",
    "        k = 2*i\n",
    "        if k < size and a[k] < a[k+1]:\n",
    "            k += 1\n",
    "        if a[i] >= a[k]:\n",
    "            break\n",
    "        a[i], a[k] = a[k], a[i]\n",
    "        i = k\n",
    "\n",
    "def create_heap(a):\n",
    "    hsize = len(a) - 1\n",
    "    for i in range(hsize//2,0,-1):\n",
    "        downheap(i,hsize)\n",
    "\n",
    "def heap_sort(a):\n",
    "    hsize = len(a) - 1\n",
    "    for i in range(hsize):\n",
    "        a[1], a[hsize] = a[hsize], a[1]\n",
    "        downheap(1, hsize-1)\n",
    "        hsize -= 1\n",
    "\n",
    "a = [-1,4,3,5,6,1,7,8,9,2,0]\n",
    "print(\"before sort: \",a)\n",
    "print(\"after create heap: \",end='')\n",
    "create_heap(a)\n",
    "print(a)\n",
    "print(\"after heap sort:\",end=' ')\n",
    "heap_sort(a)\n",
    "print(a)"
   ],
   "outputs": [
    {
     "output_type": "stream",
     "name": "stdout",
     "text": [
      "before sort:  [-1, 4, 3, 5, 6, 1, 7, 8, 9, 2, 0]\n",
      "after create heap: [-1, 9, 6, 8, 4, 1, 7, 5, 3, 2, 0]\n",
      "after heap sort: [-1, 0, 1, 2, 3, 4, 5, 6, 7, 8, 9]\n"
     ]
    }
   ],
   "metadata": {}
  },
  {
   "cell_type": "markdown",
   "source": [
    "### 4.1 Use heapq in python"
   ],
   "metadata": {}
  },
  {
   "cell_type": "code",
   "execution_count": 33,
   "source": [
    "import heapq\n",
    "a = [-1,4,3,5,6,1,7,8,9,2,0]\n",
    "print(\"before sort: \",a)\n",
    "\n",
    "print(\"after create heap: \",end='')\n",
    "heapq.heapify(a) # create min heap\n",
    "print(a)\n",
    "\n",
    "s = []\n",
    "while a:\n",
    "    s.append(heapq.heappop(a)) # get smallest num at heap\n",
    "\n",
    "print(\"after heap sort:\",end=' ')\n",
    "print(s)"
   ],
   "outputs": [
    {
     "output_type": "stream",
     "name": "stdout",
     "text": [
      "before sort:  [-1, 4, 3, 5, 6, 1, 7, 8, 9, 2, 0]\n",
      "after create heap: [-1, 0, 1, 5, 2, 3, 7, 8, 9, 4, 6]\n",
      "after heap sort: [-1, 0, 1, 2, 3, 4, 5, 6, 7, 8, 9]\n"
     ]
    }
   ],
   "metadata": {}
  },
  {
   "cell_type": "markdown",
   "source": [
    "## 5. Merge Sort"
   ],
   "metadata": {}
  },
  {
   "cell_type": "markdown",
   "source": [
    "Divide and Conquer"
   ],
   "metadata": {}
  },
  {
   "cell_type": "code",
   "execution_count": 40,
   "source": [
    "def merge(a,b,low,mid,high):\n",
    "    i = low\n",
    "    j = mid+1 # half of merge arr\n",
    "    for k in range(low,high+1):\n",
    "        if i > mid: # 1st arr is loser\n",
    "            b[k] = a[j]\n",
    "            j += 1\n",
    "        elif j > high: # 2nd arr is loser\n",
    "            b[k] = a[i]\n",
    "            i += 1\n",
    "        elif a[j] < a[i]:\n",
    "            b[k] = a[j]\n",
    "            j += 1\n",
    "        else :\n",
    "            b[k] = a[i]\n",
    "            i += 1\n",
    "\n",
    "    for k in range(low, high+1):\n",
    "        a[k] = b[k]\n",
    "\n",
    "def merge_sort(a,b,low,high):\n",
    "    if high <= low:\n",
    "        return\n",
    "    mid = low+(high-low) // 2\n",
    "    merge_sort(a,b,low,mid)\n",
    "    merge_sort(a,b,mid+1,high)\n",
    "    merge(a,b,low,mid,high)\n",
    "\n",
    "a = [80,30,40,50,10,20,70,30,60]\n",
    "b = [None]*len(a)\n",
    "print(\"before merge sort: \",end='')\n",
    "print(a)\n",
    "print(\"after merge sort: \",end='')\n",
    "merge_sort(a,b,0,len(a)-1)\n",
    "print(a)"
   ],
   "outputs": [
    {
     "output_type": "stream",
     "name": "stdout",
     "text": [
      "before merge sort: [80, 30, 40, 50, 10, 20, 70, 30, 60]\n",
      "after merge sort: [10, 20, 30, 30, 40, 50, 60, 70, 80]\n"
     ]
    }
   ],
   "metadata": {}
  },
  {
   "cell_type": "code",
   "execution_count": null,
   "source": [],
   "outputs": [],
   "metadata": {}
  }
 ],
 "metadata": {
  "orig_nbformat": 4,
  "kernelspec": {
   "name": "python3",
   "display_name": "Python 3 (ipykernel)",
   "language": "python"
  },
  "language_info": {
   "name": "python",
   "version": "3.9.7",
   "mimetype": "text/x-python",
   "codemirror_mode": {
    "name": "ipython",
    "version": 3
   },
   "pygments_lexer": "ipython3",
   "nbconvert_exporter": "python",
   "file_extension": ".py"
  }
 },
 "nbformat": 4,
 "nbformat_minor": 2
}