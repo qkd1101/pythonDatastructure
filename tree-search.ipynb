{
 "cells": [
  {
   "cell_type": "markdown",
   "source": [
    "# Search Tree"
   ],
   "metadata": {}
  },
  {
   "cell_type": "markdown",
   "source": [
    "## 1.Binary Search Tree"
   ],
   "metadata": {}
  },
  {
   "cell_type": "markdown",
   "source": [
    "the list must have to be sorted."
   ],
   "metadata": {}
  },
  {
   "cell_type": "markdown",
   "source": [
    "Search Worst Case : logN"
   ],
   "metadata": {}
  },
  {
   "cell_type": "code",
   "execution_count": 1,
   "source": [
    "def binary_search(left, right, t):\n",
    "    if left>right : return None\n",
    "    mid = (left+right)//2\n",
    "    if a[mid] == t :\n",
    "        return mid\n",
    "    if a[mid] > t: \n",
    "        binary_search(left,mid-1, t)\n",
    "    else : binary_search(mid+1, right, t)"
   ],
   "outputs": [],
   "metadata": {}
  },
  {
   "cell_type": "markdown",
   "source": [
    "Binary search Tree's parent Node has child node what is the next mid."
   ],
   "metadata": {}
  },
  {
   "cell_type": "markdown",
   "source": [
    "The inorder traversal of Binary Search Tree has result of sorted list."
   ],
   "metadata": {}
  },
  {
   "cell_type": "markdown",
   "source": [],
   "metadata": {}
  },
  {
   "cell_type": "code",
   "execution_count": null,
   "source": [
    "class Node:\n",
    "    def __init__(self, key, value, left = None, right = None):\n",
    "        self.key = key\n",
    "        self.value = value\n",
    "        self.left = left\n",
    "        self.right = right\n",
    "\n",
    "class BST:\n",
    "    def __init__(self):\n",
    "        self.root = None\n",
    "\n",
    "    def get(self,key):\n",
    "        return self.get_item(self.root, k)\n",
    "\n",
    "    def get_item(self, n, k):\n",
    "        if n === None:\n",
    "            return None\n",
    "        if n.key > k:\n",
    "            \n",
    "\n",
    "    def put(self,key,value):\n",
    "\n",
    "    def min(self):\n",
    "\n",
    "    def delete_min(self):\n",
    "\n",
    "    def delete(self, key): "
   ],
   "outputs": [],
   "metadata": {}
  }
 ],
 "metadata": {
  "orig_nbformat": 4,
  "kernelspec": {
   "name": "python3",
   "display_name": "Python 3 (ipykernel)",
   "language": "python"
  },
  "language_info": {
   "name": "python",
   "version": "3.9.7",
   "mimetype": "text/x-python",
   "codemirror_mode": {
    "name": "ipython",
    "version": 3
   },
   "pygments_lexer": "ipython3",
   "nbconvert_exporter": "python",
   "file_extension": ".py"
  }
 },
 "nbformat": 4,
 "nbformat_minor": 2
}