{
 "cells": [
  {
   "cell_type": "markdown",
   "source": [
    "# Stack and Queue"
   ],
   "metadata": {}
  },
  {
   "cell_type": "markdown",
   "source": [
    "## 1.Stack"
   ],
   "metadata": {}
  },
  {
   "cell_type": "markdown",
   "source": [
    "stack in python use push(append() in python) and pop(pop() in python). + top"
   ],
   "metadata": {}
  },
  {
   "cell_type": "markdown",
   "source": [
    "### 1.1 Stack with python list"
   ],
   "metadata": {}
  },
  {
   "cell_type": "code",
   "execution_count": 6,
   "source": [
    "def push(item):\n",
    "    stack.append(item)\n",
    "\n",
    "def peek(): #get data from top\n",
    "    if len(stack) != 0:\n",
    "        return stack[-1]\n",
    "\n",
    "def pop():\n",
    "    if len(stack) != 0:\n",
    "        item = stack.pop(-1)\n",
    "        return item\n",
    "\n",
    "stack = []\n",
    "for k in range(3):\n",
    "    push(k)\n",
    "print(\"after push\", stack)\n",
    "print(\"top : \", peek())\n",
    "print(\"pop1 : \", pop())\n",
    "print(\"pop2 : \", pop())\n",
    "print(\"after pop\", stack)\n"
   ],
   "outputs": [
    {
     "output_type": "stream",
     "name": "stdout",
     "text": [
      "after push [0, 1, 2]\n",
      "top :  2\n",
      "pop1 :  2\n",
      "pop2 :  1\n",
      "after pop [0]\n"
     ]
    }
   ],
   "metadata": {}
  },
  {
   "cell_type": "markdown",
   "source": [
    "### 1.2 Singled Linked List Stack"
   ],
   "metadata": {}
  },
  {
   "cell_type": "code",
   "execution_count": 2,
   "source": [
    "class Node:\n",
    "    def __init__(self, item, link):\n",
    "        self.item = item\n",
    "        self.next = link\n",
    "\n",
    "def push(item):\n",
    "    global top\n",
    "    global size\n",
    "    top = Node(item, top)\n",
    "    size += 1\n",
    "\n",
    "def peek():\n",
    "    if size != 0:\n",
    "        return top.item\n",
    "\n",
    "def pop():\n",
    "    global top\n",
    "    global size\n",
    "    if size != 0:\n",
    "        top_item = top.item\n",
    "        top = top.next\n",
    "        size -= 1\n",
    "        return top_item\n",
    "\n",
    "def print_stack():\n",
    "    print('top->',end='')\n",
    "    p = top\n",
    "    while p:\n",
    "        if p.next != None:\n",
    "            print(p.item,' -> ', end='')\n",
    "        else:\n",
    "            print(p.item)\n",
    "        p = p.next\n",
    "\n",
    "top = None\n",
    "size = 0\n",
    "print(peek())\n",
    "for k in range(5):\n",
    "    push(k)\n",
    "print_stack()\n",
    "print(peek())\n",
    "pop()\n",
    "print_stack()\n",
    "print(peek())\n"
   ],
   "outputs": [
    {
     "output_type": "stream",
     "name": "stdout",
     "text": [
      "None\n",
      "top->4  -> 3  -> 2  -> 1  -> 0\n",
      "4\n",
      "top->3  -> 2  -> 1  -> 0\n",
      "3\n"
     ]
    }
   ],
   "metadata": {}
  },
  {
   "cell_type": "markdown",
   "source": [
    "> python's list is dynamic array. Big-oh is O(N). But, linked list stack has Big-Oh O(1), becuase push/pop function in linked list is taking task on node."
   ],
   "metadata": {}
  },
  {
   "cell_type": "markdown",
   "source": [],
   "metadata": {}
  },
  {
   "cell_type": "markdown",
   "source": [
    "### 1.3 Brackets on compiler"
   ],
   "metadata": {}
  },
  {
   "cell_type": "code",
   "execution_count": null,
   "source": [
    "class Node:\n",
    "    def __init__(self, item, link):\n",
    "        self.item = item\n",
    "        self.next = link\n",
    "    \n",
    "def push(item):\n",
    "    global top\n",
    "    global size\n",
    "    top = Node(item, top)\n",
    "    size += 1\n",
    "\n",
    "def peek():\n",
    "    if size != 0:\n",
    "        return top.item\n",
    "    else :\n",
    "        return 'x'\n",
    "\n",
    "def pop():\n",
    "    global top\n",
    "    global size\n",
    "    if size != 0:\n",
    "        top_item = top.item\n",
    "        top = top.next\n",
    "        size -= 1\n",
    "        return top_item\n",
    "\n",
    "def print_stack():\n",
    "    p = top\n",
    "    while p:\n",
    "        print(p.item,end=' ')\n",
    "        p = p.next\n",
    "\n",
    "if __name__ == \"__main__\":\n",
    "    top = None\n",
    "    size = 0\n",
    "    for _ in range(8):\n",
    "        n = input()\n",
    "\n",
    "        if peek() == 'x':\n",
    "            push(n)\n",
    "        \n",
    "        else:\n",
    "            if n == '}' and peek() == '{':\n",
    "                pop()\n",
    "\n",
    "            elif n == ')' and peek() == '(':\n",
    "                pop()\n",
    "\n",
    "            else:\n",
    "                push(n)\n",
    "    \n",
    "    if peek() != 'x':\n",
    "        print('unmatched bracket')\n",
    "        print_stack()\n",
    "    else :\n",
    "        print('bracket is matched')\n",
    "\n",
    "            "
   ],
   "outputs": [],
   "metadata": {}
  },
  {
   "cell_type": "markdown",
   "source": [
    "### 1.4 Plindrome"
   ],
   "metadata": {}
  },
  {
   "cell_type": "code",
   "execution_count": 28,
   "source": [
    "class Node:\n",
    "    def __init__(self,item,link):\n",
    "        self.item = item\n",
    "        self.next = link\n",
    "\n",
    "def push(item):\n",
    "    global top\n",
    "    global size\n",
    "    top = Node(item, top)\n",
    "    size += 1\n",
    "\n",
    "def peek():\n",
    "    if size != 0:\n",
    "        return top.item\n",
    "\n",
    "def pop():\n",
    "    global top\n",
    "    global size\n",
    "    if size != 0:\n",
    "        top_item = top.item\n",
    "        top = top.next\n",
    "        size -= 1\n",
    "        return top_item\n",
    "\n",
    "def print_stack():\n",
    "    p = top\n",
    "    while p:\n",
    "        print(p.item,end='')\n",
    "        p = p.next\n",
    "\n",
    "def is_paindrome(word):\n",
    "    for i in range(int(len(word)/2)):\n",
    "        push(word[i])\n",
    "    for i in range(int(len(word)/2)+1,int(len(word))):\n",
    "        if pop() != word[i]:\n",
    "            return False\n",
    "    return True\n",
    "\n",
    "if __name__ == \"__main__\":\n",
    "    top = None\n",
    "    size = 0\n",
    "    word = input()\n",
    "    if is_paindrome(word):\n",
    "        print('this is praindrome')\n",
    "    else :\n",
    "        print('this is not praindrome')\n"
   ],
   "outputs": [
    {
     "output_type": "stream",
     "name": "stdout",
     "text": [
      "this is praindrome\n"
     ]
    }
   ],
   "metadata": {}
  },
  {
   "cell_type": "markdown",
   "source": [
    "### 1.4.2 Paindrome - simple ver"
   ],
   "metadata": {}
  },
  {
   "cell_type": "code",
   "execution_count": 30,
   "source": [
    "def is_paindrome(word):\n",
    "    for i in range(int(len(word)/2)):\n",
    "        if word[i] != word[-(i+1)]:\n",
    "            return False\n",
    "    return True\n",
    "\n",
    "if __name__ == \"__main__\":\n",
    "    top = None\n",
    "    size = 0\n",
    "    word = input()\n",
    "    if is_paindrome(word):\n",
    "        print('this is praindrome')\n",
    "    else :\n",
    "        print('this is not praindrome')"
   ],
   "outputs": [
    {
     "output_type": "stream",
     "name": "stdout",
     "text": [
      "this is praindrome\n"
     ]
    }
   ],
   "metadata": {}
  },
  {
   "cell_type": "markdown",
   "source": [
    "## 2.Queue"
   ],
   "metadata": {}
  },
  {
   "cell_type": "markdown",
   "source": [
    "stack in python use add(append() in python) and remove(pop() in python). + front/rear"
   ],
   "metadata": {}
  },
  {
   "cell_type": "markdown",
   "source": [
    "### 2.1 Queue with python list"
   ],
   "metadata": {}
  },
  {
   "cell_type": "code",
   "execution_count": 42,
   "source": [
    "def add(item):\n",
    "    q.append(item)\n",
    "\n",
    "def remove():\n",
    "    if len(q) != 0:\n",
    "        item = q.pop(0)\n",
    "        return item\n",
    "\n",
    "def print_q():\n",
    "    for i in range(len(q)):\n",
    "        print('{!s:<8}'.format(q[i]), end=' ')\n",
    "\n",
    "q = []\n",
    "for k in range(10):\n",
    "    add(k)\n",
    "print_q()\n",
    "remove()\n",
    "remove()\n",
    "print()\n",
    "print('after remove twice')\n",
    "print_q()"
   ],
   "outputs": [
    {
     "output_type": "stream",
     "name": "stdout",
     "text": [
      "0        1        2        3        4        5        6        7        8        9        \n",
      "after remove twice\n",
      "2        3        4        5        6        7        8        9        "
     ]
    }
   ],
   "metadata": {}
  },
  {
   "cell_type": "markdown",
   "source": [
    "### 2.2 Queue with Singley Linked Lisk"
   ],
   "metadata": {}
  },
  {
   "cell_type": "code",
   "execution_count": 8,
   "source": [
    "class Node:\n",
    "    def __init__(self, item, link):\n",
    "        self.item = item\n",
    "        self.next = link\n",
    "\n",
    "def add(item):\n",
    "    global size\n",
    "    global front\n",
    "    global rear\n",
    "    new_node = Node(item, None)\n",
    "    if size == 0:\n",
    "        front = new_node\n",
    "        rear = new_node\n",
    "        size += 1\n",
    "    else :\n",
    "        rear.next = new_node\n",
    "        rear = new_node\n",
    "        size += 1\n",
    "\n",
    "def remove():\n",
    "    global size\n",
    "    global front\n",
    "    global rear\n",
    "    if size != 0:\n",
    "        fitem = front.item\n",
    "        front = front.next\n",
    "        size -= 1\n",
    "        if size == 0:\n",
    "            rear = None\n",
    "        return fitem\n",
    "\n",
    "def print_q():\n",
    "    p = front\n",
    "    while p:\n",
    "        print(p.item,end='  ')\n",
    "        p = p.next\n",
    "    print()\n",
    "\n",
    "front = None\n",
    "rear = None\n",
    "size = 0\n",
    "for k in range(10):\n",
    "    add(k)\n",
    "print_q()\n",
    "remove()\n",
    "remove()\n",
    "print('after remove twice')\n",
    "print_q()\n"
   ],
   "outputs": [
    {
     "output_type": "stream",
     "name": "stdout",
     "text": [
      "0  1  2  3  4  5  6  7  8  9  \n",
      "after remove twice\n",
      "2  3  4  5  6  7  8  9  \n"
     ]
    }
   ],
   "metadata": {}
  },
  {
   "cell_type": "markdown",
   "source": [
    "> list add, remove has big oh O(N)/ linked list queue add, remove has big oh O(1). Because it is taking task on node"
   ],
   "metadata": {}
  },
  {
   "cell_type": "markdown",
   "source": [
    "### 2.3 Deque"
   ],
   "metadata": {}
  },
  {
   "cell_type": "markdown",
   "source": [
    "Double - ended Queue. Web browser visiting list."
   ],
   "metadata": {}
  },
  {
   "cell_type": "markdown",
   "source": [
    "Use stack and queue both."
   ],
   "metadata": {}
  },
  {
   "cell_type": "code",
   "execution_count": 14,
   "source": [
    "from collections import deque\n",
    "dq = deque('data')\n",
    "for elem in dq:\n",
    "    print(elem.upper(), end='')\n",
    "print()\n",
    "dq.append('r')\n",
    "dq.appendleft('k')\n",
    "print(dq)\n",
    "dq.pop()\n",
    "dq.popleft()\n",
    "print(dq[-1])\n",
    "print('x' in dq)\n",
    "dq.extend('structure')\n",
    "dq.extendleft(reversed('python'))\n",
    "print(dq)"
   ],
   "outputs": [
    {
     "output_type": "stream",
     "name": "stdout",
     "text": [
      "DATA\n",
      "deque(['k', 'd', 'a', 't', 'a', 'r'])\n",
      "a\n",
      "False\n",
      "deque(['p', 'y', 't', 'h', 'o', 'n', 'd', 'a', 't', 'a', 's', 't', 'r', 'u', 'c', 't', 'u', 'r', 'e'])\n"
     ]
    }
   ],
   "metadata": {}
  },
  {
   "cell_type": "code",
   "execution_count": null,
   "source": [],
   "outputs": [],
   "metadata": {}
  }
 ],
 "metadata": {
  "orig_nbformat": 4,
  "kernelspec": {
   "name": "python3",
   "display_name": "Python 3 (ipykernel)",
   "language": "python"
  }
 },
 "nbformat": 4,
 "nbformat_minor": 2
}