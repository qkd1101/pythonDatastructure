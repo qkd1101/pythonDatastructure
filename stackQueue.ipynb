{
 "cells": [
  {
   "cell_type": "markdown",
   "source": [
    "# Stack and Queue"
   ],
   "metadata": {}
  },
  {
   "cell_type": "markdown",
   "source": [
    "## 1.Stack"
   ],
   "metadata": {}
  },
  {
   "cell_type": "markdown",
   "source": [
    "stack use push(append() in python) and pop(pop() in python). + top"
   ],
   "metadata": {}
  },
  {
   "cell_type": "markdown",
   "source": [
    "### 1.1 Stack with python list"
   ],
   "metadata": {}
  },
  {
   "cell_type": "code",
   "execution_count": 6,
   "source": [
    "def push(item):\n",
    "    stack.append(item)\n",
    "\n",
    "def peek(): #get data from top\n",
    "    if len(stack) != 0:\n",
    "        return stack[-1]\n",
    "\n",
    "def pop():\n",
    "    if len(stack) != 0:\n",
    "        item = stack.pop(-1)\n",
    "        return item\n",
    "\n",
    "stack = []\n",
    "for k in range(3):\n",
    "    push(k)\n",
    "print(\"after push\", stack)\n",
    "print(\"top : \", peek())\n",
    "print(\"pop1 : \", pop())\n",
    "print(\"pop2 : \", pop())\n",
    "print(\"after pop\", stack)\n"
   ],
   "outputs": [
    {
     "output_type": "stream",
     "name": "stdout",
     "text": [
      "after push [0, 1, 2]\n",
      "top :  2\n",
      "pop1 :  2\n",
      "pop2 :  1\n",
      "after pop [0]\n"
     ]
    }
   ],
   "metadata": {}
  },
  {
   "cell_type": "markdown",
   "source": [
    "### 1.2 Singled Linked List Stack"
   ],
   "metadata": {}
  },
  {
   "cell_type": "code",
   "execution_count": 17,
   "source": [
    "class Node:\n",
    "    def __init__(self, item, link):\n",
    "        self.item = item\n",
    "        self.next = link\n",
    "\n",
    "def push(item):\n",
    "    global top\n",
    "    global size\n",
    "    top = Node(item, top)\n",
    "    size += 1\n",
    "\n",
    "def peek():\n",
    "    if size != 0:\n",
    "        return top.item\n",
    "\n",
    "def pop():\n",
    "    global top\n",
    "    global size\n",
    "    if size != 0:\n",
    "        top_item = top.item\n",
    "        top = top.next\n",
    "        size -= 1\n",
    "        return top_item\n",
    "\n",
    "def print_stack():\n",
    "    print('top->',end='')\n",
    "    p = top\n",
    "    while p:\n",
    "        if p.next != None:\n",
    "            print(p.item,' -> ', end='')\n",
    "        else:\n",
    "            print(p.item)\n",
    "        p = p.next\n",
    "\n",
    "top = None\n",
    "size = 0\n",
    "for k in range(5):\n",
    "    push(k)\n",
    "\n",
    "print_stack()\n",
    "print(peek())\n",
    "pop()\n",
    "print_stack()\n",
    "print(peek())\n"
   ],
   "outputs": [
    {
     "output_type": "stream",
     "name": "stdout",
     "text": [
      "top->4  -> 3  -> 2  -> 1  -> 0\n",
      "4\n",
      "top->3  -> 2  -> 1  -> 0\n",
      "3\n"
     ]
    }
   ],
   "metadata": {}
  },
  {
   "cell_type": "markdown",
   "source": [
    "> python's list is dynamic array. Big-oh is O(N). But, linked list stack has Big-Oh O(1), becuase push/pop function in linked list is taking task on node."
   ],
   "metadata": {}
  },
  {
   "cell_type": "markdown",
   "source": [],
   "metadata": {}
  }
 ],
 "metadata": {
  "orig_nbformat": 4,
  "kernelspec": {
   "name": "python3",
   "display_name": "Python 3 (ipykernel)",
   "language": "python"
  },
  "language_info": {
   "name": "python",
   "version": "3.9.7",
   "mimetype": "text/x-python",
   "codemirror_mode": {
    "name": "ipython",
    "version": 3
   },
   "pygments_lexer": "ipython3",
   "nbconvert_exporter": "python",
   "file_extension": ".py"
  }
 },
 "nbformat": 4,
 "nbformat_minor": 2
}