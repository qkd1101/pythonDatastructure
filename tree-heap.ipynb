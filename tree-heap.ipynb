{
 "cells": [
  {
   "cell_type": "markdown",
   "source": [
    "# Binary Heap"
   ],
   "metadata": {}
  },
  {
   "cell_type": "markdown",
   "source": [
    "Parent's priority has upper than Child's. - Heap Property"
   ],
   "metadata": {}
  },
  {
   "cell_type": "markdown",
   "source": [
    "complete bianry tree + heap prperty = binary heap"
   ],
   "metadata": {}
  },
  {
   "cell_type": "markdown",
   "source": [
    "Minimum Heap / Maximum Heap"
   ],
   "metadata": {}
  },
  {
   "cell_type": "markdown",
   "source": [
    "## 1.1 Binary Heap"
   ],
   "metadata": {}
  },
  {
   "cell_type": "code",
   "execution_count": 14,
   "source": [
    "class BHeap:\n",
    "    def __init__(self, a):\n",
    "        self.a = a #list\n",
    "        self.N = len(a) - 1\n",
    "    \n",
    "    def create_heap(self):\n",
    "        for i in range(self.N//2,0,-1):\n",
    "            self.downheap(i)\n",
    "\n",
    "    def insert(self, key_value):\n",
    "        self.N += 1\n",
    "        self.a.append(key_value)\n",
    "        self.upheap(self.N)\n",
    "\n",
    "    def delete_min(self):\n",
    "        if self.N == 0:\n",
    "            print(\"empty heap\")\n",
    "            return None\n",
    "        minimum = self.a[1]\n",
    "        self.a[1], self.a[-1] = self.a[-1], self.a[1]\n",
    "        del self.a[-1]\n",
    "        self.N -= 1\n",
    "        self.downheap(1)\n",
    "        return minimum\n",
    "\n",
    "    def downheap(self,i):\n",
    "        while 2*i <= self.N:\n",
    "            k = 2*i\n",
    "            if k < self.N and self.a[k][0] > self.a[k+1][0]:\n",
    "                k += 1\n",
    "            if self.a[i][0] < self.a[k][0]:\n",
    "                break\n",
    "            self.a[i], self.a[k] = self.a[k], self.a[i]\n",
    "            i = k\n",
    "\n",
    "    def upheap(self,j):\n",
    "        while j > 1 and self.a[j//2][0] > self.a[j][0]:\n",
    "            self.a[j], self.a[j//2] = self.a[j], self.a[j//2]\n",
    "            j = j//2\n",
    "\n",
    "    def print_heap(self):\n",
    "        for i in range(1, self.N+1):\n",
    "            print('[{0}, {1}]'.format(self.a[i][0], self.a[i][1]),end=' ')\n",
    "        print()\n",
    "        print('size of heap : ',self.N)\n",
    "\n",
    "\n",
    "if __name__ == \"__main__\":\n",
    "    a = [None] * 1 #index 0\n",
    "    a.append([90, 'I'])\n",
    "    a.append([80, 'H'])\n",
    "    a.append([70, 'G'])\n",
    "    a.append([50, 'E'])\n",
    "    a.append([60, 'F'])\n",
    "    a.append([20, 'B'])\n",
    "    a.append([30, 'C'])\n",
    "    a.append([10, 'A'])\n",
    "    a.append([40, 'D'])\n",
    "    \n",
    "    b = BHeap(a)\n",
    "    print('before make heap')\n",
    "    b.print_heap()\n",
    "    b.create_heap()\n",
    "    print('after make heap')\n",
    "    b.print_heap()\n",
    "    print('after delete minimium')\n",
    "    print(b.delete_min())\n",
    "    b.print_heap()\n",
    "    print('after insert')\n",
    "    b.insert([100,'J'])\n",
    "    b.print_heap()"
   ],
   "outputs": [
    {
     "output_type": "stream",
     "name": "stdout",
     "text": [
      "before make heap\n",
      "[90, I] [80, H] [70, G] [50, E] [60, F] [20, B] [30, C] [10, A] [40, D] \n",
      "size of heap :  9\n",
      "after make heap\n",
      "[10, A] [40, D] [20, B] [50, E] [60, F] [70, G] [30, C] [90, I] [80, H] \n",
      "size of heap :  9\n",
      "after delete minimium\n",
      "[10, 'A']\n",
      "[20, B] [40, D] [30, C] [50, E] [60, F] [70, G] [80, H] [90, I] \n",
      "size of heap :  8\n",
      "after insert\n"
     ]
    },
    {
     "output_type": "error",
     "ename": "UnboundLocalError",
     "evalue": "local variable 'j' referenced before assignment",
     "traceback": [
      "\u001b[0;31m---------------------------------------------------------------------------\u001b[0m",
      "\u001b[0;31mUnboundLocalError\u001b[0m                         Traceback (most recent call last)",
      "\u001b[0;32m/var/folders/qf/tz5tb38s0yg4bgh66qsys0h40000gp/T/ipykernel_70180/660169939.py\u001b[0m in \u001b[0;36m<module>\u001b[0;34m\u001b[0m\n\u001b[1;32m     68\u001b[0m     \u001b[0mb\u001b[0m\u001b[0;34m.\u001b[0m\u001b[0mprint_heap\u001b[0m\u001b[0;34m(\u001b[0m\u001b[0;34m)\u001b[0m\u001b[0;34m\u001b[0m\u001b[0;34m\u001b[0m\u001b[0m\n\u001b[1;32m     69\u001b[0m     \u001b[0mprint\u001b[0m\u001b[0;34m(\u001b[0m\u001b[0;34m'after insert'\u001b[0m\u001b[0;34m)\u001b[0m\u001b[0;34m\u001b[0m\u001b[0;34m\u001b[0m\u001b[0m\n\u001b[0;32m---> 70\u001b[0;31m     \u001b[0mb\u001b[0m\u001b[0;34m.\u001b[0m\u001b[0minsert\u001b[0m\u001b[0;34m(\u001b[0m\u001b[0;34m[\u001b[0m\u001b[0;36m100\u001b[0m\u001b[0;34m,\u001b[0m\u001b[0;34m'JJ'\u001b[0m\u001b[0;34m]\u001b[0m\u001b[0;34m)\u001b[0m\u001b[0;34m\u001b[0m\u001b[0;34m\u001b[0m\u001b[0m\n\u001b[0m\u001b[1;32m     71\u001b[0m     \u001b[0mb\u001b[0m\u001b[0;34m.\u001b[0m\u001b[0mprint_heap\u001b[0m\u001b[0;34m(\u001b[0m\u001b[0;34m)\u001b[0m\u001b[0;34m\u001b[0m\u001b[0;34m\u001b[0m\u001b[0m\n",
      "\u001b[0;32m/var/folders/qf/tz5tb38s0yg4bgh66qsys0h40000gp/T/ipykernel_70180/660169939.py\u001b[0m in \u001b[0;36minsert\u001b[0;34m(self, key_value)\u001b[0m\n\u001b[1;32m     11\u001b[0m         \u001b[0mself\u001b[0m\u001b[0;34m.\u001b[0m\u001b[0mN\u001b[0m \u001b[0;34m+=\u001b[0m \u001b[0;36m1\u001b[0m\u001b[0;34m\u001b[0m\u001b[0;34m\u001b[0m\u001b[0m\n\u001b[1;32m     12\u001b[0m         \u001b[0mself\u001b[0m\u001b[0;34m.\u001b[0m\u001b[0ma\u001b[0m\u001b[0;34m.\u001b[0m\u001b[0mappend\u001b[0m\u001b[0;34m(\u001b[0m\u001b[0mkey_value\u001b[0m\u001b[0;34m)\u001b[0m\u001b[0;34m\u001b[0m\u001b[0;34m\u001b[0m\u001b[0m\n\u001b[0;32m---> 13\u001b[0;31m         \u001b[0mself\u001b[0m\u001b[0;34m.\u001b[0m\u001b[0mupheap\u001b[0m\u001b[0;34m(\u001b[0m\u001b[0mself\u001b[0m\u001b[0;34m.\u001b[0m\u001b[0mN\u001b[0m\u001b[0;34m)\u001b[0m\u001b[0;34m\u001b[0m\u001b[0;34m\u001b[0m\u001b[0m\n\u001b[0m\u001b[1;32m     14\u001b[0m \u001b[0;34m\u001b[0m\u001b[0m\n\u001b[1;32m     15\u001b[0m     \u001b[0;32mdef\u001b[0m \u001b[0mdelete_min\u001b[0m\u001b[0;34m(\u001b[0m\u001b[0mself\u001b[0m\u001b[0;34m)\u001b[0m\u001b[0;34m:\u001b[0m\u001b[0;34m\u001b[0m\u001b[0;34m\u001b[0m\u001b[0m\n",
      "\u001b[0;32m/var/folders/qf/tz5tb38s0yg4bgh66qsys0h40000gp/T/ipykernel_70180/660169939.py\u001b[0m in \u001b[0;36mupheap\u001b[0;34m(self, i)\u001b[0m\n\u001b[1;32m     35\u001b[0m \u001b[0;34m\u001b[0m\u001b[0m\n\u001b[1;32m     36\u001b[0m     \u001b[0;32mdef\u001b[0m \u001b[0mupheap\u001b[0m\u001b[0;34m(\u001b[0m\u001b[0mself\u001b[0m\u001b[0;34m,\u001b[0m\u001b[0mi\u001b[0m\u001b[0;34m)\u001b[0m\u001b[0;34m:\u001b[0m\u001b[0;34m\u001b[0m\u001b[0;34m\u001b[0m\u001b[0m\n\u001b[0;32m---> 37\u001b[0;31m         \u001b[0;32mwhile\u001b[0m \u001b[0mj\u001b[0m \u001b[0;34m>\u001b[0m \u001b[0;36m1\u001b[0m \u001b[0;32mand\u001b[0m \u001b[0mself\u001b[0m\u001b[0;34m.\u001b[0m\u001b[0ma\u001b[0m\u001b[0;34m[\u001b[0m\u001b[0mj\u001b[0m\u001b[0;34m//\u001b[0m\u001b[0;36m2\u001b[0m\u001b[0;34m]\u001b[0m\u001b[0;34m[\u001b[0m\u001b[0;36m0\u001b[0m\u001b[0;34m]\u001b[0m \u001b[0;34m>\u001b[0m \u001b[0mself\u001b[0m\u001b[0;34m.\u001b[0m\u001b[0ma\u001b[0m\u001b[0;34m[\u001b[0m\u001b[0mj\u001b[0m\u001b[0;34m]\u001b[0m\u001b[0;34m[\u001b[0m\u001b[0;36m0\u001b[0m\u001b[0;34m]\u001b[0m\u001b[0;34m:\u001b[0m\u001b[0;34m\u001b[0m\u001b[0;34m\u001b[0m\u001b[0m\n\u001b[0m\u001b[1;32m     38\u001b[0m             \u001b[0mself\u001b[0m\u001b[0;34m.\u001b[0m\u001b[0ma\u001b[0m\u001b[0;34m[\u001b[0m\u001b[0mj\u001b[0m\u001b[0;34m]\u001b[0m\u001b[0;34m,\u001b[0m \u001b[0mself\u001b[0m\u001b[0;34m.\u001b[0m\u001b[0ma\u001b[0m\u001b[0;34m[\u001b[0m\u001b[0mj\u001b[0m\u001b[0;34m//\u001b[0m\u001b[0;36m2\u001b[0m\u001b[0;34m]\u001b[0m \u001b[0;34m=\u001b[0m \u001b[0mself\u001b[0m\u001b[0;34m.\u001b[0m\u001b[0ma\u001b[0m\u001b[0;34m[\u001b[0m\u001b[0mj\u001b[0m\u001b[0;34m]\u001b[0m\u001b[0;34m,\u001b[0m \u001b[0mself\u001b[0m\u001b[0;34m.\u001b[0m\u001b[0ma\u001b[0m\u001b[0;34m[\u001b[0m\u001b[0mj\u001b[0m\u001b[0;34m//\u001b[0m\u001b[0;36m2\u001b[0m\u001b[0;34m]\u001b[0m\u001b[0;34m\u001b[0m\u001b[0;34m\u001b[0m\u001b[0m\n\u001b[1;32m     39\u001b[0m             \u001b[0mj\u001b[0m \u001b[0;34m=\u001b[0m \u001b[0mj\u001b[0m\u001b[0;34m//\u001b[0m\u001b[0;36m2\u001b[0m\u001b[0;34m\u001b[0m\u001b[0;34m\u001b[0m\u001b[0m\n",
      "\u001b[0;31mUnboundLocalError\u001b[0m: local variable 'j' referenced before assignment"
     ]
    }
   ],
   "metadata": {}
  },
  {
   "cell_type": "markdown",
   "source": [],
   "metadata": {}
  }
 ],
 "metadata": {
  "orig_nbformat": 4,
  "kernelspec": {
   "name": "python3",
   "display_name": "Python 3 (ipykernel)",
   "language": "python"
  },
  "language_info": {
   "name": "python",
   "version": "3.9.7",
   "mimetype": "text/x-python",
   "codemirror_mode": {
    "name": "ipython",
    "version": 3
   },
   "pygments_lexer": "ipython3",
   "nbconvert_exporter": "python",
   "file_extension": ".py"
  }
 },
 "nbformat": 4,
 "nbformat_minor": 2
}